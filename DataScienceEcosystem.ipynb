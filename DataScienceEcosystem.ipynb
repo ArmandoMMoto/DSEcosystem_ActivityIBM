{
 "cells": [
  {
   "cell_type": "markdown",
   "id": "1b3ec809-984b-4ffb-b8f0-86d8bf1c4be7",
   "metadata": {},
   "source": [
    "# Data Science Tools and Ecosystem"
   ]
  },
  {
   "cell_type": "markdown",
   "id": "10e1b8a2-88bf-4cec-aa2e-a9b0bee5301a",
   "metadata": {},
   "source": [
    "In this notebook, I'll be practicing the creation of Jupyter notebooks discussing common tools in data analysis and the ecosystem."
   ]
  },
  {
   "cell_type": "markdown",
   "id": "a37a66a2-8466-464a-b497-9fc6c624a456",
   "metadata": {},
   "source": [
    "**Objectives**\n",
    "* Knowing the most popular languages in Data Science\r",
    "* \n",
    "Knowing their most common librarie\n",
    "* Knowing some tools for Data Science\n",
    "* Knowing how to use certain arithmetic operationsions"
   ]
  },
  {
   "cell_type": "markdown",
   "id": "585719b2-8299-4af8-975f-b71e260fc71b",
   "metadata": {},
   "source": [
    "Some of the popular languages that Data Scientists use are:"
   ]
  },
  {
   "cell_type": "markdown",
   "id": "12210d3e-fcc4-4571-8b0b-20365c78066f",
   "metadata": {},
   "source": [
    "1. Python\r\n",
    "2. R\r\n",
    "3. S\n",
    "4. MySQL\n",
    "5. Julia\n",
    "6. SCALAQL"
   ]
  },
  {
   "cell_type": "markdown",
   "id": "ecd1fbe0-52ce-40f4-af00-3320d82b728e",
   "metadata": {},
   "source": [
    "Some of the commonly used libraries used by Data Scientists include:\n",
    "1. Numpy\n",
    "2. Pandas\n",
    "3. Matplotlib\n",
    "4. TensorFlow\n",
    "5. Keras\n",
    "6. Scikit-learn"
   ]
  },
  {
   "cell_type": "markdown",
   "id": "5bfd2887-17cf-469a-b067-f68695019ffe",
   "metadata": {},
   "source": [
    "|Data Science Tools|\n",
    "|------------------|\n",
    "|Jupyter Notebook|\n",
    "|RStudio|\n",
    "|Apache Zeppelin|\n"
   ]
  },
  {
   "cell_type": "markdown",
   "id": "29d3174d-0bff-4084-a06c-493af187a70d",
   "metadata": {},
   "source": [
    "### Below are a few examples of evaluating arithmetic expressions in Python: "
   ]
  },
  {
   "cell_type": "code",
   "execution_count": 9,
   "id": "1924cb93-e2fe-400a-9552-04bcd6cfda11",
   "metadata": {},
   "outputs": [
    {
     "data": {
      "text/plain": [
       "17"
      ]
     },
     "execution_count": 9,
     "metadata": {},
     "output_type": "execute_result"
    }
   ],
   "source": [
    "#This a simple arithmetic expression to mutiply then add integers:\n",
    "(3*4)+5"
   ]
  },
  {
   "cell_type": "code",
   "execution_count": 10,
   "id": "c3381e3b-c58b-4582-9928-e3475c8f524b",
   "metadata": {},
   "outputs": [
    {
     "name": "stdout",
     "output_type": "stream",
     "text": [
      "200 minutes is equal to 3.3333333333333335 hours.\n"
     ]
    }
   ],
   "source": [
    "#This will convert 200 minutes to hours by diving by 60:\n",
    "result = 200/60\n",
    "print(f\"200 minutes is equal to {result} hours.\")"
   ]
  },
  {
   "cell_type": "markdown",
   "id": "8f45b24b-89f2-4ef1-88dc-56b3b117daeb",
   "metadata": {},
   "source": [
    "## Author\n",
    "Luis Armando Macías Moto"
   ]
  }
 ],
 "metadata": {
  "kernelspec": {
   "display_name": "Python 3 (ipykernel)",
   "language": "python",
   "name": "python3"
  },
  "language_info": {
   "codemirror_mode": {
    "name": "ipython",
    "version": 3
   },
   "file_extension": ".py",
   "mimetype": "text/x-python",
   "name": "python",
   "nbconvert_exporter": "python",
   "pygments_lexer": "ipython3",
   "version": "3.11.7"
  }
 },
 "nbformat": 4,
 "nbformat_minor": 5
}
